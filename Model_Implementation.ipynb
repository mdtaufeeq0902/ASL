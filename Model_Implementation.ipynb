{
 "cells": [
  {
   "cell_type": "code",
   "execution_count": 1,
   "id": "f91898c3",
   "metadata": {},
   "outputs": [],
   "source": [
    "import keras\n",
    "from keras.layers import Dense,Conv2D,Flatten,MaxPool2D,Dropout\n",
    "from keras.models import Sequential\n",
    "from keras.preprocessing import image"
   ]
  },
  {
   "cell_type": "code",
   "execution_count": 2,
   "id": "faa4389e",
   "metadata": {},
   "outputs": [],
   "source": [
    "train_gen = image.ImageDataGenerator(rescale=1./255)\n",
    "test_gen = image.ImageDataGenerator(rescale=1./255)"
   ]
  },
  {
   "cell_type": "code",
   "execution_count": 3,
   "id": "3f2f0e00",
   "metadata": {},
   "outputs": [
    {
     "name": "stdout",
     "output_type": "stream",
     "text": [
      "Found 3640 images belonging to 26 classes.\n"
     ]
    }
   ],
   "source": [
    "train_data = train_gen.flow_from_directory(directory=\"train_test_Data/Train\",target_size=(300,300),batch_size=32,classes=[chr(i) for i in range(65,91)])  "
   ]
  },
  {
   "cell_type": "code",
   "execution_count": 4,
   "id": "52f3de10",
   "metadata": {},
   "outputs": [
    {
     "data": {
      "text/plain": [
       "{'A': 0,\n",
       " 'B': 1,\n",
       " 'C': 2,\n",
       " 'D': 3,\n",
       " 'E': 4,\n",
       " 'F': 5,\n",
       " 'G': 6,\n",
       " 'H': 7,\n",
       " 'I': 8,\n",
       " 'J': 9,\n",
       " 'K': 10,\n",
       " 'L': 11,\n",
       " 'M': 12,\n",
       " 'N': 13,\n",
       " 'O': 14,\n",
       " 'P': 15,\n",
       " 'Q': 16,\n",
       " 'R': 17,\n",
       " 'S': 18,\n",
       " 'T': 19,\n",
       " 'U': 20,\n",
       " 'V': 21,\n",
       " 'W': 22,\n",
       " 'X': 23,\n",
       " 'Y': 24,\n",
       " 'Z': 25}"
      ]
     },
     "execution_count": 4,
     "metadata": {},
     "output_type": "execute_result"
    }
   ],
   "source": [
    "train_data.class_indices"
   ]
  },
  {
   "cell_type": "code",
   "execution_count": 6,
   "id": "95b236e4",
   "metadata": {},
   "outputs": [
    {
     "name": "stdout",
     "output_type": "stream",
     "text": [
      "Found 1560 images belonging to 26 classes.\n"
     ]
    }
   ],
   "source": [
    "test_data = test_gen.flow_from_directory(directory=\"train_test_Data/Test\",target_size=(300,300),batch_size=32,classes=[chr(i) for i in range(65,91)])"
   ]
  },
  {
   "cell_type": "code",
   "execution_count": 7,
   "id": "11f43b57",
   "metadata": {},
   "outputs": [
    {
     "data": {
      "text/plain": [
       "{'A': 0,\n",
       " 'B': 1,\n",
       " 'C': 2,\n",
       " 'D': 3,\n",
       " 'E': 4,\n",
       " 'F': 5,\n",
       " 'G': 6,\n",
       " 'H': 7,\n",
       " 'I': 8,\n",
       " 'J': 9,\n",
       " 'K': 10,\n",
       " 'L': 11,\n",
       " 'M': 12,\n",
       " 'N': 13,\n",
       " 'O': 14,\n",
       " 'P': 15,\n",
       " 'Q': 16,\n",
       " 'R': 17,\n",
       " 'S': 18,\n",
       " 'T': 19,\n",
       " 'U': 20,\n",
       " 'V': 21,\n",
       " 'W': 22,\n",
       " 'X': 23,\n",
       " 'Y': 24,\n",
       " 'Z': 25}"
      ]
     },
     "execution_count": 7,
     "metadata": {},
     "output_type": "execute_result"
    }
   ],
   "source": [
    "test_data.class_indices"
   ]
  },
  {
   "cell_type": "code",
   "execution_count": 8,
   "id": "b96b83a1",
   "metadata": {},
   "outputs": [
    {
     "name": "stdout",
     "output_type": "stream",
     "text": [
      "Model: \"sequential\"\n",
      "_________________________________________________________________\n",
      " Layer (type)                Output Shape              Param #   \n",
      "=================================================================\n",
      " conv2d (Conv2D)             (None, 298, 298, 32)      896       \n",
      "                                                                 \n",
      " conv2d_1 (Conv2D)           (None, 296, 296, 32)      9248      \n",
      "                                                                 \n",
      " max_pooling2d (MaxPooling2D  (None, 148, 148, 32)     0         \n",
      " )                                                               \n",
      "                                                                 \n",
      " conv2d_2 (Conv2D)           (None, 146, 146, 64)      18496     \n",
      "                                                                 \n",
      " max_pooling2d_1 (MaxPooling  (None, 73, 73, 64)       0         \n",
      " 2D)                                                             \n",
      "                                                                 \n",
      " conv2d_3 (Conv2D)           (None, 71, 71, 128)       73856     \n",
      "                                                                 \n",
      " max_pooling2d_2 (MaxPooling  (None, 35, 35, 128)      0         \n",
      " 2D)                                                             \n",
      "                                                                 \n",
      " dropout (Dropout)           (None, 35, 35, 128)       0         \n",
      "                                                                 \n",
      " flatten (Flatten)           (None, 156800)            0         \n",
      "                                                                 \n",
      " dense (Dense)               (None, 64)                10035264  \n",
      "                                                                 \n",
      " dropout_1 (Dropout)         (None, 64)                0         \n",
      "                                                                 \n",
      " dense_1 (Dense)             (None, 26)                1690      \n",
      "                                                                 \n",
      "=================================================================\n",
      "Total params: 10,139,450\n",
      "Trainable params: 10,139,450\n",
      "Non-trainable params: 0\n",
      "_________________________________________________________________\n"
     ]
    }
   ],
   "source": [
    "# CNN Model \n",
    "model = Sequential() \n",
    "\n",
    "# Convolutional Layer with input shape (300,300,3)\n",
    "model.add(Conv2D(filters=32, kernel_size= (3,3), activation= 'relu', input_shape=(300,300,3)) )\n",
    "\n",
    "model.add(Conv2D(filters=32, kernel_size=(3,3), activation='relu' ))\n",
    "model.add(MaxPool2D(pool_size=(2,2)))\n",
    "\n",
    "model.add(Conv2D(filters=64, kernel_size=(3,3), activation='relu' ))\n",
    "model.add(MaxPool2D(pool_size=(2,2)))\n",
    "\n",
    "model.add(Conv2D(filters=128, kernel_size=(3,3), activation='relu' ))\n",
    "model.add(MaxPool2D(pool_size=(2,2)))\n",
    "\n",
    "model.add(Dropout(rate=0.25))\n",
    "\n",
    "model.add(Flatten())\n",
    "\n",
    "model.add(Dense(units=64, activation='relu'))\n",
    "model.add(Dropout(rate=0.25))\n",
    "\n",
    "model.add(Dense(units=26, activation='sigmoid'))\n",
    "\n",
    "model.compile(optimizer='adam', loss='categorical_crossentropy', metrics=['accuracy']  )\n",
    " \n",
    "model.summary()"
   ]
  },
  {
   "cell_type": "code",
   "execution_count": 9,
   "id": "da16c92b",
   "metadata": {},
   "outputs": [
    {
     "name": "stdout",
     "output_type": "stream",
     "text": [
      "Epoch 1/26\n",
      "2/2 [==============================] - 16s 7s/step - loss: 5.6262 - accuracy: 0.0469\n",
      "Epoch 2/26\n",
      "2/2 [==============================] - 9s 4s/step - loss: 4.1120 - accuracy: 0.1094\n",
      "Epoch 3/26\n",
      "2/2 [==============================] - 9s 4s/step - loss: 3.2429 - accuracy: 0.0312\n",
      "Epoch 4/26\n",
      "2/2 [==============================] - 9s 5s/step - loss: 3.3299 - accuracy: 0.0781\n",
      "Epoch 5/26\n",
      "2/2 [==============================] - 9s 4s/step - loss: 3.2446 - accuracy: 0.0625\n",
      "Epoch 6/26\n",
      "2/2 [==============================] - 9s 4s/step - loss: 3.2558 - accuracy: 0.0625\n",
      "Epoch 7/26\n",
      "2/2 [==============================] - 9s 4s/step - loss: 3.2565 - accuracy: 0.0781\n",
      "Epoch 8/26\n",
      "2/2 [==============================] - 9s 4s/step - loss: 3.2188 - accuracy: 0.0938\n",
      "Epoch 9/26\n",
      "2/2 [==============================] - 9s 4s/step - loss: 3.1314 - accuracy: 0.1406\n",
      "Epoch 10/26\n",
      "2/2 [==============================] - 9s 4s/step - loss: 3.1544 - accuracy: 0.1094\n",
      "Epoch 11/26\n",
      "2/2 [==============================] - 9s 5s/step - loss: 3.1393 - accuracy: 0.0625\n",
      "Epoch 12/26\n",
      "2/2 [==============================] - 10s 5s/step - loss: 3.1428 - accuracy: 0.1094\n",
      "Epoch 13/26\n",
      "2/2 [==============================] - 9s 4s/step - loss: 3.0054 - accuracy: 0.1094\n",
      "Epoch 14/26\n",
      "2/2 [==============================] - 9s 4s/step - loss: 2.8748 - accuracy: 0.1406\n",
      "Epoch 15/26\n",
      "2/2 [==============================] - 9s 5s/step - loss: 2.7984 - accuracy: 0.2344\n",
      "Epoch 16/26\n",
      "2/2 [==============================] - 10s 5s/step - loss: 2.5072 - accuracy: 0.2656\n",
      "Epoch 17/26\n",
      "2/2 [==============================] - 9s 4s/step - loss: 2.2252 - accuracy: 0.3281\n",
      "Epoch 18/26\n",
      "2/2 [==============================] - 9s 4s/step - loss: 2.4146 - accuracy: 0.2969\n",
      "Epoch 19/26\n",
      "2/2 [==============================] - 9s 5s/step - loss: 2.0398 - accuracy: 0.4375\n",
      "Epoch 20/26\n",
      "2/2 [==============================] - 9s 4s/step - loss: 1.9960 - accuracy: 0.4062\n",
      "Epoch 21/26\n",
      "2/2 [==============================] - 9s 4s/step - loss: 1.7683 - accuracy: 0.4219\n",
      "Epoch 22/26\n",
      "2/2 [==============================] - 9s 4s/step - loss: 1.6333 - accuracy: 0.5625\n",
      "Epoch 23/26\n",
      "2/2 [==============================] - 9s 4s/step - loss: 1.0001 - accuracy: 0.6875\n",
      "Epoch 24/26\n",
      "2/2 [==============================] - 9s 4s/step - loss: 1.6447 - accuracy: 0.5469\n",
      "Epoch 25/26\n",
      "2/2 [==============================] - 9s 5s/step - loss: 1.4667 - accuracy: 0.6094\n",
      "Epoch 26/26\n",
      "2/2 [==============================] - 9s 4s/step - loss: 1.6666 - accuracy: 0.5156\n"
     ]
    },
    {
     "data": {
      "text/plain": [
       "<keras.callbacks.History at 0x2c0f0f0b2b0>"
      ]
     },
     "execution_count": 9,
     "metadata": {},
     "output_type": "execute_result"
    }
   ],
   "source": [
    "model.fit(train_data,steps_per_epoch = 2,epochs = 26)"
   ]
  },
  {
   "cell_type": "code",
   "execution_count": 10,
   "id": "75991364",
   "metadata": {},
   "outputs": [
    {
     "name": "stderr",
     "output_type": "stream",
     "text": [
      "C:\\Users\\Ayesha Thabassum\\AppData\\Local\\Temp\\ipykernel_14460\\1114248660.py:1: UserWarning: `Model.evaluate_generator` is deprecated and will be removed in a future version. Please use `Model.evaluate`, which supports generators.\n",
      "  accuracy = model.evaluate_generator(generator= test_data)[1]\n"
     ]
    },
    {
     "name": "stdout",
     "output_type": "stream",
     "text": [
      "The accuracy of the model is = 79.10256385803223 %\n"
     ]
    }
   ],
   "source": [
    "accuracy = model.evaluate_generator(generator= test_data)[1] \n",
    "print(f\"The accuracy of the model is = {accuracy*100} %\")"
   ]
  },
  {
   "cell_type": "code",
   "execution_count": 23,
   "id": "17ce678f",
   "metadata": {},
   "outputs": [],
   "source": []
  },
  {
   "cell_type": "code",
   "execution_count": null,
   "id": "0e534b65",
   "metadata": {},
   "outputs": [],
   "source": []
  },
  {
   "cell_type": "code",
   "execution_count": 82,
   "id": "5b1a0172",
   "metadata": {},
   "outputs": [
    {
     "name": "stdout",
     "output_type": "stream",
     "text": [
      "1/1 [==============================] - 0s 135ms/step\n",
      "E\n"
     ]
    },
    {
     "data": {
      "image/png": "[encoded data removed]",
      "text/plain": [
       "<Figure size 432x288 with 1 Axes>"
      ]
     },
     "metadata": {
      "needs_background": "light"
     },
     "output_type": "display_data"
    }
   ],
   "source": [
    "'''import numpy as np\n",
    "import keras.utils as ku\n",
    "import matplotlib.pyplot as plt\n",
    "\n",
    "def Recog(path):\n",
    "    # Loading Image\n",
    "    img = ku.load_img(path, target_size=(300,300))\n",
    "    # Normalizing Image\n",
    "    norm_img = ku.img_to_array(img)/255\n",
    "    # Converting Image to Numpy Array\n",
    "    input_arr_img = np.array([norm_img])\n",
    "    imgplot = plt.imshow(img)\n",
    "    # Getting Predictions\n",
    "    pred = model.predict(input_arr_img)\n",
    "    # Printing Model Prediction\n",
    "    l=list(pred[0])\n",
    "    return l\n",
    "    \n",
    "# Path for the image to get predictions  \n",
    "path = \"C:/Users/User/OneDrive/Desktop/Miniprj/Data_Images/E/image_45.jpg\"\n",
    "ans = Recog(path)\n",
    "print(chr(65+ans.index(max(ans))))\n",
    "'''"
   ]
  },
  {
   "cell_type": "code",
   "execution_count": 11,
   "id": "6b556897",
   "metadata": {},
   "outputs": [],
   "source": [
    "model.save(\"ASL_c_Recog_model.h5\")"
   ]
  },
  {
   "cell_type": "code",
   "execution_count": null,
   "id": "b6412751",
   "metadata": {},
   "outputs": [],
   "source": []
  }
 ],
 "metadata": {
  "kernelspec": {
   "display_name": "Python 3.9.13 64-bit",
   "language": "python",
   "name": "python3"
  },
  "language_info": {
   "codemirror_mode": {
    "name": "ipython",
    "version": 3
   },
   "file_extension": ".py",
   "mimetype": "text/x-python",
   "name": "python",
   "nbconvert_exporter": "python",
   "pygments_lexer": "ipython3",
   "version": "3.10.11"
  },
  "vscode": {
   "interpreter": {
    "hash": "11938c6bc6919ae2720b4d5011047913343b08a43b18698fd82dedb0d4417594"
   }
  }
 },
 "nbformat": 4,
 "nbformat_minor": 5
}
